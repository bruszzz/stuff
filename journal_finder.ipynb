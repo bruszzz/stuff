{
 "cells": [
  {
   "cell_type": "code",
   "execution_count": null,
   "metadata": {
    "collapsed": true,
    "pycharm": {
     "is_executing": false
    }
   },
   "outputs": [],
   "source": [
    "import pandas as pd\n",
    "pd.set_option('display.max_rows', None)\n",
    "areas_to_show = ['informatyka techniczna i telekomunikacja', 'automatyka, elektronika i elektrotechnika', 'rolnictwo i ogrodnictwo', 'ekonomia i finanse', 'nauki o polityce i administracji', 'nauki o zarządzaniu i jakości', 'inżynieria biomedyczna', 'nauki farmaceutyczne', 'nauki medyczne', 'informatyka', 'matematyka', 'nauki fizyczne', 'nauki o Ziemi i środowisku']"
   ]
  },
  {
   "cell_type": "code",
   "execution_count": null,
   "outputs": [],
   "source": [
    "# data read\n",
    "# http://www.bip.nauka.gov.pl/akty-prawne-mnisw/komunikat-ministra-nauki-i-szkolnictwa-wyzszego-z-dnia-31-lipca-2019-r-w-sprawie-wykazu-czasopism-naukowych-i-recenzowanych-materialow-z-konferencji-miedzynarodowych-wraz-z-przypisana-liczba-punktow.html\n",
    "url = \"http://www.bip.nauka.gov.pl/g2/oryginal/2019_08/7dbe72017839f832b64c59b0cd7e85ea.xlsx\"\n",
    "\n",
    "# columns names are spread into two row (3rd and 4th row), so thet are renamed for readability purpose\n",
    "temp = pd.read_excel(url,skiprows=2, nrows=10, index_col=0)\n",
    "df = pd.read_excel(url,skiprows=3, index_col=0)\n",
    "dict_columns = dict(zip(df.columns[7:], temp.columns[7:]))\n",
    "df.rename(columns = dict_columns, inplace = True)\n",
    "\n",
    "print('rows read:', len(df))"
   ],
   "metadata": {
    "collapsed": false,
    "pycharm": {
     "name": "#%%\n",
     "is_executing": false
    }
   }
  },
  {
   "cell_type": "code",
   "execution_count": null,
   "outputs": [],
   "source": [
    "# search parameters\n",
    "min_points = 70\n",
    "areas = ['informatyka techniczna i telekomunikacja', 'rolnictwo i ogrodnictwo',]\n",
    "key = ''\n",
    "issn = ''\n",
    "\n",
    "\n",
    "df2 = df[df['Punkty'] >= min_points]\n",
    "    \n",
    "for area in areas:    \n",
    "    df2 = df2[(df2[area].notnull())]\n",
    "\n",
    "df2 = df2[(df2['Tytuł 1'].str.lower().str.contains(key.lower()))\n",
    "    | (df2['Tytuł 2'].str.lower().str.contains(key.lower()))]\n",
    "\n",
    "df2 = df2[(df2['issn'].str.contains(issn)) | (df2['e-issn'].str.contains(issn))]\n",
    "\n",
    "print('rows found:', len(df2))\n",
    "df2[['Tytuł 1', 'Tytuł 2', 'Punkty', 'issn', 'e-issn', *areas_to_show]]"
   ],
   "metadata": {
    "collapsed": false,
    "pycharm": {
     "name": "#%%\n",
     "is_executing": false
    }
   }
  }
 ],
 "metadata": {
  "kernelspec": {
   "display_name": "Python 3",
   "language": "python",
   "name": "python3"
  },
  "language_info": {
   "codemirror_mode": {
    "name": "ipython",
    "version": 2
   },
   "file_extension": ".py",
   "mimetype": "text/x-python",
   "name": "python",
   "nbconvert_exporter": "python",
   "pygments_lexer": "ipython2",
   "version": "2.7.6"
  },
  "pycharm": {
   "stem_cell": {
    "cell_type": "raw",
    "source": [
     "%pip -q install pandas\n"
    ],
    "metadata": {
     "collapsed": false
    }
   }
  }
 },
 "nbformat": 4,
 "nbformat_minor": 0
}